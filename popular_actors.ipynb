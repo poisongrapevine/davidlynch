{
 "cells": [
  {
   "cell_type": "markdown",
   "metadata": {},
   "source": [
    "# Определение известности (популярности) актеров"
   ]
  },
  {
   "cell_type": "code",
   "execution_count": null,
   "metadata": {},
   "outputs": [],
   "source": [
    "import sqlite3\n",
    "import pandas as pd\n",
    "import matplotlib.pyplot as plt\n",
    "%matplotlib inline\n",
    "import seaborn as sns\n",
    "import pandas as pd\n",
    "import re\n",
    "import random\n",
    "\n",
    "con = sqlite3.connect('imdb_2022-02-13.db')\n",
    "cur = con.cursor()\n",
    "\n",
    "def pop_value(person):\n",
    "    sum_rating = 0\n",
    "    sum_votes = 0\n",
    "    films_num = 0\n",
    "    answer = []\n",
    "    artist_query = \"\"\" \n",
    "    SELECT titles.title_id \n",
    "    FROM titles  \n",
    "        JOIN crew ON titles.title_id = crew.title_id\n",
    "        JOIN people ON crew.person_id = people.person_id\n",
    "    WHERE name = ? AND category IN (\"1\", \"2\")  \n",
    "    \"\"\"\n",
    "    cur.execute(artist_query, (person))\n",
    "    films = list(cur.fetchall()) # выбираем все фильмы, где человек значится актером\n",
    "    films_num = len(films)\n",
    "    if films_num == 0:\n",
    "        return \"not an actor\\ress\"\n",
    "    for film in films:\n",
    "        rnv = \"\"\"\n",
    "        SELECT rating, votes\n",
    "        FROM rating \n",
    "        WHERE title_id = ? \n",
    "        \"\"\"\n",
    "        cur.execute(rnv, (film))\n",
    "        film_data = cur.fetchone()\n",
    "        sum_rating += film_data[0]\n",
    "        sum_votes += film_data[1]\n",
    "    answer.append(sum_rating)\n",
    "    answer.append(sum_votes)\n",
    "    return answer\n",
    "\n",
    "artists = {}\n",
    "people = \"\"\"\n",
    "        SELECT name\n",
    "        FROM people \n",
    "        \"\"\"\n",
    "cur.execute(people)\n",
    "people_list = list(cur.fetchall())\n",
    "for person in people:\n",
    "    result = pop_value(person)\n",
    "    if  result != \"not an actor\\ress\":\n",
    "        pv = result[0]*result[1]\n",
    "        artists[person] = pv\n",
    "\n",
    "sorted_values = sorted(artists.values())\n",
    "sorted_art = {}\n",
    "for i in range(-1, -15 ):\n",
    "        for k in artists.keys():\n",
    "            if artists[k] == i:\n",
    "                sorted_art[k] = artists[k]\n",
    "print(sorted_art)"
   ]
  },
  {
   "cell_type": "code",
   "execution_count": null,
   "metadata": {},
   "outputs": [],
   "source": []
  }
 ],
 "metadata": {
  "kernelspec": {
   "display_name": "Python 3",
   "language": "python",
   "name": "python3"
  },
  "language_info": {
   "codemirror_mode": {
    "name": "ipython",
    "version": 3
   },
   "file_extension": ".py",
   "mimetype": "text/x-python",
   "name": "python",
   "nbconvert_exporter": "python",
   "pygments_lexer": "ipython3",
   "version": "3.8.5"
  }
 },
 "nbformat": 4,
 "nbformat_minor": 4
}
