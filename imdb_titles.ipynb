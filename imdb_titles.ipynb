{
 "cells": [
  {
   "cell_type": "code",
   "execution_count": 1,
   "id": "bf4e92fd",
   "metadata": {},
   "outputs": [],
   "source": [
    "import sqlite3\n",
    "import nltk\n",
    "from nltk.tokenize import word_tokenize\n",
    "from nltk.tokenize import sent_tokenize\n",
    "from nltk.corpus import stopwords\n",
    "from nltk import WordNetLemmatizer\n",
    "wnl = WordNetLemmatizer()"
   ]
  },
  {
   "cell_type": "markdown",
   "id": "1f26a715",
   "metadata": {},
   "source": [
    "какие слова встречаются в названиях?как это меняется во времени? какова структура названий? успешность фильма по названию, в каких жанрах какие слова частотные"
   ]
  },
  {
   "cell_type": "markdown",
   "id": "4b9b4af8",
   "metadata": {},
   "source": [
    "достаем названия фильмов:"
   ]
  },
  {
   "cell_type": "code",
   "execution_count": 2,
   "id": "26c63fa3",
   "metadata": {},
   "outputs": [],
   "source": [
    "query = \"\"\"\n",
    "SELECT \n",
    "\ttitle\n",
    "FROM titles\n",
    "\"\"\""
   ]
  },
  {
   "cell_type": "code",
   "execution_count": 3,
   "id": "fbed01e0",
   "metadata": {},
   "outputs": [],
   "source": [
    "con = sqlite3.connect('imdb_2022-02-13.db')\n",
    "cur = con.cursor() "
   ]
  },
  {
   "cell_type": "code",
   "execution_count": 4,
   "id": "adae637d",
   "metadata": {},
   "outputs": [],
   "source": [
    "cur.execute(query)\n",
    "data = cur.fetchall()"
   ]
  },
  {
   "cell_type": "code",
   "execution_count": 5,
   "id": "e1932307",
   "metadata": {},
   "outputs": [],
   "source": [
    "titles_list = []"
   ]
  },
  {
   "cell_type": "code",
   "execution_count": 6,
   "id": "0c460f2f",
   "metadata": {},
   "outputs": [],
   "source": [
    "for elem in data:\n",
    "    name = elem[0]\n",
    "    titles_list.append(name)"
   ]
  },
  {
   "cell_type": "code",
   "execution_count": 7,
   "id": "b8ba80db",
   "metadata": {},
   "outputs": [],
   "source": [
    "sw = stopwords.words('english') + stopwords.words('french') + stopwords.words('spanish')"
   ]
  },
  {
   "cell_type": "code",
   "execution_count": null,
   "id": "71e3acb5",
   "metadata": {},
   "outputs": [],
   "source": [
    "words_list = []\n",
    "for title in titles_list:\n",
    "    words = [w.lower() for w in word_tokenize(title) if w.isalpha()]\n",
    "    for word in words:\n",
    "        words_list.append(word)"
   ]
  },
  {
   "cell_type": "code",
   "execution_count": null,
   "id": "6cfb523d",
   "metadata": {},
   "outputs": [],
   "source": [
    "filtered = [w for w in words_list if w not in sw]\n",
    "lemmas_frequency = {}\n",
    "for w in filtered:\n",
    "    lemma = lemma = wnl.lemmatize(w)\n",
    "    if lemma not in lemmas_frequency.keys():\n",
    "        lemmas_frequency[lemma] = 1\n",
    "    else:\n",
    "        lemmas_frequency[lemma] += 1"
   ]
  },
  {
   "cell_type": "code",
   "execution_count": null,
   "id": "b5c48c2e",
   "metadata": {},
   "outputs": [],
   "source": [
    "sorted_tuples = reversed(sorted(lemmas_frequency.items(), key=lambda item: item[1]))\n",
    "sorted_lemmas = {k: v for k, v in sorted_tuples}\n",
    "sorted_lemmas = sorted_lemmas"
   ]
  },
  {
   "cell_type": "code",
   "execution_count": null,
   "id": "a8bf8d21",
   "metadata": {
    "scrolled": true
   },
   "outputs": [],
   "source": [
    "for key in sorted_lemmas.keys():\n",
    "    if sorted_lemmas[key] > 1000:\n",
    "        print(key, sorted_lemmas[key])"
   ]
  },
  {
   "cell_type": "code",
   "execution_count": null,
   "id": "3fc86b8b",
   "metadata": {},
   "outputs": [],
   "source": [
    "tags = []\n",
    "nouns = 0\n",
    "verbs = 0\n",
    "adjs = 0"
   ]
  },
  {
   "cell_type": "code",
   "execution_count": null,
   "id": "1a8deb2d",
   "metadata": {},
   "outputs": [],
   "source": [
    "pos = nltk.pos_tag(sorted_lemmas)\n",
    "for elem in pos:\n",
    "    length +=1\n",
    "    if 'NN' in elem:\n",
    "        nouns += 1\n",
    "    elif 'VB' in elem:\n",
    "        verbs += 1\n",
    "    elif 'JJ' in elem:\n",
    "        adjs += 1\n",
    "print(nouns/len(pos), verbs/len(pos), adjs/len(pos))"
   ]
  },
  {
   "cell_type": "code",
   "execution_count": null,
   "id": "1239d782",
   "metadata": {},
   "outputs": [],
   "source": [
    "query = \"\"\"\n",
    "SELECT\n",
    "\ttitle, premiered\n",
    "FROM titles\n",
    "\"\"\""
   ]
  },
  {
   "cell_type": "code",
   "execution_count": null,
   "id": "449ff773",
   "metadata": {},
   "outputs": [],
   "source": [
    "con = sqlite3.connect('imdb_2022-02-13.db')\n",
    "cur = con.cursor() "
   ]
  },
  {
   "cell_type": "code",
   "execution_count": null,
   "id": "017595ee",
   "metadata": {},
   "outputs": [],
   "source": [
    "cur.execute(query)\n",
    "data = cur.fetchall()"
   ]
  },
  {
   "cell_type": "code",
   "execution_count": null,
   "id": "895a1676",
   "metadata": {},
   "outputs": [],
   "source": [
    "found_early = 0\n",
    "found_recent = 0\n",
    "early = 0\n",
    "recent = 0"
   ]
  },
  {
   "cell_type": "code",
   "execution_count": null,
   "id": "551584de",
   "metadata": {},
   "outputs": [],
   "source": [
    "for elem in data:\n",
    "    if elem[1]:\n",
    "        if elem[1] < 1950:\n",
    "            early += 1\n",
    "        else:\n",
    "            recent +=1\n",
    "        text = elem[0]\n",
    "        words = [w.lower() for w in word_tokenize(text) if w.isalpha()]\n",
    "        for w in words:\n",
    "            lemma = wnl.lemmatize(w)\n",
    "            if lemma in sorted_lemmas and elem[1] < 1950:\n",
    "                found_early += 1\n",
    "            elif lemma in sorted_lemmas and elem[1] >= 1950:\n",
    "                found_recent += 1\n",
    "print(found_early/early, found_recent/recent)"
   ]
  },
  {
   "cell_type": "code",
   "execution_count": null,
   "id": "14c0ec4d",
   "metadata": {},
   "outputs": [],
   "source": [
    "query = \"\"\"\n",
    "SELECT \n",
    "\ttitle, genre_name\n",
    "FROM titles\n",
    "    JOIN film_genres ON titles.title_id = film_genres.title_id\n",
    "    JOIN genre_types ON film_genres.genre_id = genre_types.id\n",
    "\"\"\""
   ]
  },
  {
   "cell_type": "code",
   "execution_count": null,
   "id": "5a8a2159",
   "metadata": {},
   "outputs": [],
   "source": [
    "cur.execute(query)\n",
    "data = cur.fetchall()"
   ]
  },
  {
   "cell_type": "code",
   "execution_count": null,
   "id": "94cc15be",
   "metadata": {},
   "outputs": [],
   "source": [
    "genres = {}"
   ]
  },
  {
   "cell_type": "code",
   "execution_count": null,
   "id": "d44ee03d",
   "metadata": {},
   "outputs": [],
   "source": [
    "for item in data:\n",
    "    length = len(word_tokenize(item[0]))\n",
    "    if item[1] not in genres:\n",
    "         genres[item[1]] = length\n",
    "    else:\n",
    "        genres[item[1]] = (genres[item[1]] + length)/2"
   ]
  },
  {
   "cell_type": "code",
   "execution_count": null,
   "id": "812ac4de",
   "metadata": {},
   "outputs": [],
   "source": [
    "print(genres)"
   ]
  },
  {
   "cell_type": "code",
   "execution_count": null,
   "id": "7afbb911",
   "metadata": {},
   "outputs": [],
   "source": []
  }
 ],
 "metadata": {
  "kernelspec": {
   "display_name": "Python 3",
   "language": "python",
   "name": "python3"
  },
  "language_info": {
   "codemirror_mode": {
    "name": "ipython",
    "version": 3
   },
   "file_extension": ".py",
   "mimetype": "text/x-python",
   "name": "python",
   "nbconvert_exporter": "python",
   "pygments_lexer": "ipython3",
   "version": "3.8.8"
  }
 },
 "nbformat": 4,
 "nbformat_minor": 5
}
