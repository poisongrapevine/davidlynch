{
 "cells": [
  {
   "cell_type": "code",
   "execution_count": 2,
   "metadata": {},
   "outputs": [],
   "source": [
    "import sqlite3\n",
    "import pandas as pd\n",
    "import matplotlib.pyplot as plt"
   ]
  },
  {
   "cell_type": "code",
   "execution_count": 3,
   "metadata": {},
   "outputs": [],
   "source": [
    "con = sqlite3.connect('imdb_2022-02-13.db')\n",
    "cur = con.cursor()"
   ]
  },
  {
   "cell_type": "markdown",
   "metadata": {},
   "source": [
    "**Проблема:** у одного фильма бывает много жанров.\n",
    "\n",
    "**Решение:** Делаем в датабазе таблицу с one-hot кодированием жанров"
   ]
  },
  {
   "cell_type": "markdown",
   "metadata": {},
   "source": [
    "1. Алгоритм кодирования"
   ]
  },
  {
   "cell_type": "code",
   "execution_count": 4,
   "metadata": {},
   "outputs": [],
   "source": [
    "all_genres_query = \"\"\"\n",
    "    SELECT * FROM film_genres\n",
    "    WHERE title_id = ?\n",
    "    \"\"\""
   ]
  },
  {
   "cell_type": "code",
   "execution_count": 7,
   "metadata": {},
   "outputs": [],
   "source": [
    "def film_genres_one_hot(title_id):\n",
    "    title_id_list = [title_id]\n",
    "    cur.execute(all_genres_query, title_id_list)\n",
    "    data = cur.fetchall()\n",
    "    film_genres = []\n",
    "    for element in data:\n",
    "        film_genres.append(element[1])\n",
    "    film_genres_one_hot = []\n",
    "    film_genres_one_hot.append(title_id)\n",
    "    for j in range(28):\n",
    "        if j+1 in film_genres:\n",
    "            film_genres_one_hot.append(1)\n",
    "        else:\n",
    "            film_genres_one_hot.append(0)\n",
    "    return film_genres_one_hot"
   ]
  },
  {
   "cell_type": "markdown",
   "metadata": {},
   "source": [
    "Пример работы:"
   ]
  },
  {
   "cell_type": "code",
   "execution_count": 8,
   "metadata": {},
   "outputs": [
    {
     "data": {
      "text/plain": [
       "[335,\n",
       " 0,\n",
       " 0,\n",
       " 0,\n",
       " 0,\n",
       " 1,\n",
       " 0,\n",
       " 0,\n",
       " 0,\n",
       " 1,\n",
       " 0,\n",
       " 0,\n",
       " 0,\n",
       " 0,\n",
       " 0,\n",
       " 0,\n",
       " 0,\n",
       " 0,\n",
       " 0,\n",
       " 0,\n",
       " 0,\n",
       " 0,\n",
       " 0,\n",
       " 1,\n",
       " 0,\n",
       " 0,\n",
       " 0,\n",
       " 0,\n",
       " 0]"
      ]
     },
     "execution_count": 8,
     "metadata": {},
     "output_type": "execute_result"
    }
   ],
   "source": [
    "film_genres_one_hot(335)"
   ]
  },
  {
   "cell_type": "code",
   "execution_count": 9,
   "metadata": {},
   "outputs": [
    {
     "data": {
      "text/plain": [
       "29"
      ]
     },
     "execution_count": 9,
     "metadata": {},
     "output_type": "execute_result"
    }
   ],
   "source": [
    "len(film_genres_one_hot(335))"
   ]
  },
  {
   "cell_type": "markdown",
   "metadata": {},
   "source": [
    "2. Делаем таблицу"
   ]
  },
  {
   "cell_type": "code",
   "execution_count": 10,
   "metadata": {},
   "outputs": [
    {
     "data": {
      "text/plain": [
       "<sqlite3.Cursor at 0x7f9a69cd5b90>"
      ]
     },
     "execution_count": 10,
     "metadata": {},
     "output_type": "execute_result"
    }
   ],
   "source": [
    "cur.execute(\"\"\"\n",
    "CREATE TABLE all_genres (\n",
    "    title_id INT,\n",
    "    is_one INT,\n",
    "    is_two INT,\n",
    "    is_three INT,\n",
    "    is_four INT,\n",
    "    is_five INT,\n",
    "    is_six INT,\n",
    "    is_seven INT,\n",
    "    is_eight INT,\n",
    "    is_nine INT,\n",
    "    is_ten INT,\n",
    "    is_eleven INT,\n",
    "    is_twelve INT,\n",
    "    is_thirteen INT,\n",
    "    is_fourteen INT,\n",
    "    is_fiveteen INT,\n",
    "    is_sixteen INT,\n",
    "    is_seventeen INT,\n",
    "    is_eighteen INT,\n",
    "    is_nineteen INT,\n",
    "    is_twenty INT,\n",
    "    is_twentyone INT,\n",
    "    is_twentytwo INT,\n",
    "    is_twentythree INT,\n",
    "    is_twentyfour INT,\n",
    "    is_twentyfive INT,\n",
    "    is_twentysix INT,\n",
    "    is_twentyseven INT,\n",
    "    is_twentyeight INT,\n",
    "    PRIMARY KEY (title_id)\n",
    ")\n",
    "\"\"\")"
   ]
  },
  {
   "cell_type": "code",
   "execution_count": 11,
   "metadata": {},
   "outputs": [
    {
     "name": "stdout",
     "output_type": "stream",
     "text": [
      "18226684\n"
     ]
    }
   ],
   "source": [
    "number_of_films_query = '''SELECT MAX(title_id) FROM titles'''\n",
    "cur.execute(number_of_films_query)\n",
    "number_of_films = cur.fetchall()[0][0]\n",
    "print(number_of_films)"
   ]
  },
  {
   "cell_type": "code",
   "execution_count": 12,
   "metadata": {},
   "outputs": [],
   "source": [
    "for i in range(1, number_of_films+1):\n",
    "    data = film_genres_one_hot(i)\n",
    "    cur.execute(\"INSERT INTO all_genres VALUES (?, ?, ?, ?, ?, ?, ?, ?, ?, ?, ?, ?, ?, ?, ?, ?, ?, ?, ?, ?, ?, ?, ?, ?, ?, ?, ?, ?, ?)\", data)\n",
    "con.commit()"
   ]
  },
  {
   "cell_type": "code",
   "execution_count": 14,
   "metadata": {},
   "outputs": [],
   "source": [
    "###  код на маленьком кусочке для скорости\n",
    "#for i in range(1, 11):\n",
    " #   data = film_genres_one_hot(i)\n",
    "  #  cur.execute(\"INSERT INTO all_genres VALUES (?, ?, ?, ?, ?, ?, ?, ?, ?, ?, ?, ?, ?, ?, ?, ?, ?, ?, ?, ?, ?, ?, ?, ?, ?, ?, ?, ?, ?)\", data)\n",
    "#con.commit()"
   ]
  },
  {
   "cell_type": "markdown",
   "metadata": {},
   "source": [
    "**Делаем общую таблицу со всеми данными.**"
   ]
  },
  {
   "cell_type": "code",
   "execution_count": 15,
   "metadata": {},
   "outputs": [
    {
     "data": {
      "text/plain": [
       "<sqlite3.Cursor at 0x7f9a69cd5b90>"
      ]
     },
     "execution_count": 15,
     "metadata": {},
     "output_type": "execute_result"
    }
   ],
   "source": [
    "cur.execute(\"\"\"\n",
    "CREATE TABLE all_data (\n",
    "    title_id INT,\n",
    "    title TEXT,\n",
    "    is_adult INT,\n",
    "    runtime_min INT,\n",
    "    premiered INT,\n",
    "    film_type INT,\n",
    "    is_one INT,\n",
    "    is_two INT,\n",
    "    is_three INT,\n",
    "    is_four INT,\n",
    "    is_five INT,\n",
    "    is_six INT,\n",
    "    is_seven INT,\n",
    "    is_eight INT,\n",
    "    is_nine INT,\n",
    "    is_ten INT,\n",
    "    is_eleven INT,\n",
    "    is_twelve INT,\n",
    "    is_thirteen INT,\n",
    "    is_fourteen INT,\n",
    "    is_fiveteen INT,\n",
    "    is_sixteen INT,\n",
    "    is_seventeen INT,\n",
    "    is_eighteen INT,\n",
    "    is_nineteen INT,\n",
    "    is_twenty INT,\n",
    "    is_twentyone INT,\n",
    "    is_twentytwo INT,\n",
    "    is_twentythree INT,\n",
    "    is_twentyfour INT,\n",
    "    is_twentyfive INT,\n",
    "    is_twentysix INT,\n",
    "    is_twentyseven INT,\n",
    "    is_twentyeight INT,\n",
    "    votes INT,\n",
    "    rating REAL,\n",
    "    PRIMARY KEY (title_id)\n",
    ")\n",
    "\"\"\")"
   ]
  },
  {
   "cell_type": "code",
   "execution_count": 16,
   "metadata": {},
   "outputs": [],
   "source": [
    "all_data_query = \"\"\"\n",
    "SELECT titles.title_id, title, is_adult, runtime_min, premiered, film_type, is_one, is_two, is_three, is_four, is_five, is_six, is_seven, is_eight, is_nine, is_ten, is_eleven, is_twelve, is_thirteen, is_fourteen, is_fiveteen, is_sixteen, is_seventeen, is_eighteen, is_nineteen, is_twenty, is_twentyone, is_twentytwo, is_twentythree, is_twentyfour, is_twentyfive, is_twentysix, is_twentyseven, is_twentyeight,\n",
    " votes, rating\n",
    "FROM titles\n",
    "    JOIN film_types ON film_types.id = titles.type\n",
    "    JOIN all_genres ON all_genres.title_id = titles.title_id\n",
    "    JOIN rating ON titles.title_id = rating.title_id\n",
    "\"\"\""
   ]
  },
  {
   "cell_type": "code",
   "execution_count": 17,
   "metadata": {},
   "outputs": [],
   "source": [
    "cur.execute(all_data_query)\n",
    "data = cur.fetchall()"
   ]
  },
  {
   "cell_type": "code",
   "execution_count": 18,
   "metadata": {},
   "outputs": [],
   "source": [
    "cur.executemany(\"INSERT INTO all_data VALUES (?, ?, ?, ?, ?, ?, ?, ?, ?, ?, ?, ?, ?, ?, ?, ?, ?, ?, ?, ?, ?, ?, ?, ?, ?, ?, ?, ?, ?, ?, ?, ?, ?, ?, ?, ?)\", data)\n",
    "con.commit()"
   ]
  },
  {
   "cell_type": "markdown",
   "metadata": {},
   "source": [
    "У нас получилась таблица all_data со всеми данными, но как часть .db."
   ]
  },
  {
   "cell_type": "markdown",
   "metadata": {},
   "source": [
    "Мы хотим предсказать рейтинг фильма по многим его параметрам.\n",
    "\n",
    "Делаем линейную регрессию."
   ]
  },
  {
   "cell_type": "code",
   "execution_count": 19,
   "metadata": {},
   "outputs": [],
   "source": [
    "import pandas as pd"
   ]
  },
  {
   "cell_type": "code",
   "execution_count": 20,
   "metadata": {},
   "outputs": [
    {
     "data": {
      "text/html": [
       "<div>\n",
       "<style scoped>\n",
       "    .dataframe tbody tr th:only-of-type {\n",
       "        vertical-align: middle;\n",
       "    }\n",
       "\n",
       "    .dataframe tbody tr th {\n",
       "        vertical-align: top;\n",
       "    }\n",
       "\n",
       "    .dataframe thead th {\n",
       "        text-align: right;\n",
       "    }\n",
       "</style>\n",
       "<table border=\"1\" class=\"dataframe\">\n",
       "  <thead>\n",
       "    <tr style=\"text-align: right;\">\n",
       "      <th></th>\n",
       "      <th>title_id</th>\n",
       "      <th>title</th>\n",
       "      <th>is_adult</th>\n",
       "      <th>runtime_min</th>\n",
       "      <th>premiered</th>\n",
       "      <th>film_type</th>\n",
       "      <th>is_one</th>\n",
       "      <th>is_two</th>\n",
       "      <th>is_three</th>\n",
       "      <th>is_four</th>\n",
       "      <th>...</th>\n",
       "      <th>is_twentyone</th>\n",
       "      <th>is_twentytwo</th>\n",
       "      <th>is_twentythree</th>\n",
       "      <th>is_twentyfour</th>\n",
       "      <th>is_twentyfive</th>\n",
       "      <th>is_twentysix</th>\n",
       "      <th>is_twentyseven</th>\n",
       "      <th>is_twentyeight</th>\n",
       "      <th>votes</th>\n",
       "      <th>rating</th>\n",
       "    </tr>\n",
       "  </thead>\n",
       "  <tbody>\n",
       "    <tr>\n",
       "      <th>0</th>\n",
       "      <td>1</td>\n",
       "      <td>Carmencita</td>\n",
       "      <td>0</td>\n",
       "      <td>1.0</td>\n",
       "      <td>1894.0</td>\n",
       "      <td>short</td>\n",
       "      <td>0</td>\n",
       "      <td>0</td>\n",
       "      <td>0</td>\n",
       "      <td>0</td>\n",
       "      <td>...</td>\n",
       "      <td>0</td>\n",
       "      <td>0</td>\n",
       "      <td>1</td>\n",
       "      <td>0</td>\n",
       "      <td>0</td>\n",
       "      <td>0</td>\n",
       "      <td>0</td>\n",
       "      <td>0</td>\n",
       "      <td>1858</td>\n",
       "      <td>5.7</td>\n",
       "    </tr>\n",
       "    <tr>\n",
       "      <th>1</th>\n",
       "      <td>2</td>\n",
       "      <td>Le clown et ses chiens</td>\n",
       "      <td>0</td>\n",
       "      <td>5.0</td>\n",
       "      <td>1892.0</td>\n",
       "      <td>short</td>\n",
       "      <td>0</td>\n",
       "      <td>0</td>\n",
       "      <td>0</td>\n",
       "      <td>1</td>\n",
       "      <td>...</td>\n",
       "      <td>0</td>\n",
       "      <td>0</td>\n",
       "      <td>1</td>\n",
       "      <td>0</td>\n",
       "      <td>0</td>\n",
       "      <td>0</td>\n",
       "      <td>0</td>\n",
       "      <td>0</td>\n",
       "      <td>243</td>\n",
       "      <td>6.0</td>\n",
       "    </tr>\n",
       "    <tr>\n",
       "      <th>2</th>\n",
       "      <td>3</td>\n",
       "      <td>Pauvre Pierrot</td>\n",
       "      <td>0</td>\n",
       "      <td>4.0</td>\n",
       "      <td>1892.0</td>\n",
       "      <td>short</td>\n",
       "      <td>0</td>\n",
       "      <td>0</td>\n",
       "      <td>0</td>\n",
       "      <td>1</td>\n",
       "      <td>...</td>\n",
       "      <td>1</td>\n",
       "      <td>0</td>\n",
       "      <td>0</td>\n",
       "      <td>0</td>\n",
       "      <td>0</td>\n",
       "      <td>0</td>\n",
       "      <td>0</td>\n",
       "      <td>0</td>\n",
       "      <td>1629</td>\n",
       "      <td>6.5</td>\n",
       "    </tr>\n",
       "    <tr>\n",
       "      <th>3</th>\n",
       "      <td>4</td>\n",
       "      <td>Un bon bock</td>\n",
       "      <td>0</td>\n",
       "      <td>12.0</td>\n",
       "      <td>1892.0</td>\n",
       "      <td>short</td>\n",
       "      <td>0</td>\n",
       "      <td>0</td>\n",
       "      <td>0</td>\n",
       "      <td>1</td>\n",
       "      <td>...</td>\n",
       "      <td>0</td>\n",
       "      <td>0</td>\n",
       "      <td>1</td>\n",
       "      <td>0</td>\n",
       "      <td>0</td>\n",
       "      <td>0</td>\n",
       "      <td>0</td>\n",
       "      <td>0</td>\n",
       "      <td>158</td>\n",
       "      <td>6.0</td>\n",
       "    </tr>\n",
       "    <tr>\n",
       "      <th>4</th>\n",
       "      <td>5</td>\n",
       "      <td>Blacksmith Scene</td>\n",
       "      <td>0</td>\n",
       "      <td>1.0</td>\n",
       "      <td>1893.0</td>\n",
       "      <td>short</td>\n",
       "      <td>0</td>\n",
       "      <td>0</td>\n",
       "      <td>0</td>\n",
       "      <td>0</td>\n",
       "      <td>...</td>\n",
       "      <td>0</td>\n",
       "      <td>0</td>\n",
       "      <td>1</td>\n",
       "      <td>0</td>\n",
       "      <td>0</td>\n",
       "      <td>0</td>\n",
       "      <td>0</td>\n",
       "      <td>0</td>\n",
       "      <td>2455</td>\n",
       "      <td>6.2</td>\n",
       "    </tr>\n",
       "    <tr>\n",
       "      <th>...</th>\n",
       "      <td>...</td>\n",
       "      <td>...</td>\n",
       "      <td>...</td>\n",
       "      <td>...</td>\n",
       "      <td>...</td>\n",
       "      <td>...</td>\n",
       "      <td>...</td>\n",
       "      <td>...</td>\n",
       "      <td>...</td>\n",
       "      <td>...</td>\n",
       "      <td>...</td>\n",
       "      <td>...</td>\n",
       "      <td>...</td>\n",
       "      <td>...</td>\n",
       "      <td>...</td>\n",
       "      <td>...</td>\n",
       "      <td>...</td>\n",
       "      <td>...</td>\n",
       "      <td>...</td>\n",
       "      <td>...</td>\n",
       "      <td>...</td>\n",
       "    </tr>\n",
       "    <tr>\n",
       "      <th>1214286</th>\n",
       "      <td>9916690</td>\n",
       "      <td>Horrid Henry Delivers the Milk</td>\n",
       "      <td>0</td>\n",
       "      <td>10.0</td>\n",
       "      <td>2012.0</td>\n",
       "      <td>tvEpisode</td>\n",
       "      <td>0</td>\n",
       "      <td>0</td>\n",
       "      <td>1</td>\n",
       "      <td>1</td>\n",
       "      <td>...</td>\n",
       "      <td>0</td>\n",
       "      <td>0</td>\n",
       "      <td>0</td>\n",
       "      <td>0</td>\n",
       "      <td>0</td>\n",
       "      <td>0</td>\n",
       "      <td>0</td>\n",
       "      <td>0</td>\n",
       "      <td>5</td>\n",
       "      <td>6.6</td>\n",
       "    </tr>\n",
       "    <tr>\n",
       "      <th>1214287</th>\n",
       "      <td>9916720</td>\n",
       "      <td>The Nun 2</td>\n",
       "      <td>0</td>\n",
       "      <td>10.0</td>\n",
       "      <td>2019.0</td>\n",
       "      <td>short</td>\n",
       "      <td>0</td>\n",
       "      <td>0</td>\n",
       "      <td>0</td>\n",
       "      <td>0</td>\n",
       "      <td>...</td>\n",
       "      <td>0</td>\n",
       "      <td>0</td>\n",
       "      <td>0</td>\n",
       "      <td>0</td>\n",
       "      <td>0</td>\n",
       "      <td>0</td>\n",
       "      <td>0</td>\n",
       "      <td>0</td>\n",
       "      <td>184</td>\n",
       "      <td>5.5</td>\n",
       "    </tr>\n",
       "    <tr>\n",
       "      <th>1214288</th>\n",
       "      <td>9916730</td>\n",
       "      <td>6 Gunn</td>\n",
       "      <td>0</td>\n",
       "      <td>116.0</td>\n",
       "      <td>2017.0</td>\n",
       "      <td>movie</td>\n",
       "      <td>0</td>\n",
       "      <td>0</td>\n",
       "      <td>0</td>\n",
       "      <td>0</td>\n",
       "      <td>...</td>\n",
       "      <td>0</td>\n",
       "      <td>0</td>\n",
       "      <td>0</td>\n",
       "      <td>0</td>\n",
       "      <td>0</td>\n",
       "      <td>0</td>\n",
       "      <td>0</td>\n",
       "      <td>0</td>\n",
       "      <td>5</td>\n",
       "      <td>8.4</td>\n",
       "    </tr>\n",
       "    <tr>\n",
       "      <th>1214289</th>\n",
       "      <td>9916766</td>\n",
       "      <td>Episode #10.15</td>\n",
       "      <td>0</td>\n",
       "      <td>43.0</td>\n",
       "      <td>2019.0</td>\n",
       "      <td>tvEpisode</td>\n",
       "      <td>0</td>\n",
       "      <td>0</td>\n",
       "      <td>0</td>\n",
       "      <td>0</td>\n",
       "      <td>...</td>\n",
       "      <td>0</td>\n",
       "      <td>0</td>\n",
       "      <td>0</td>\n",
       "      <td>0</td>\n",
       "      <td>0</td>\n",
       "      <td>0</td>\n",
       "      <td>0</td>\n",
       "      <td>0</td>\n",
       "      <td>18</td>\n",
       "      <td>6.7</td>\n",
       "    </tr>\n",
       "    <tr>\n",
       "      <th>1214290</th>\n",
       "      <td>9916778</td>\n",
       "      <td>Escape</td>\n",
       "      <td>0</td>\n",
       "      <td>NaN</td>\n",
       "      <td>2019.0</td>\n",
       "      <td>tvEpisode</td>\n",
       "      <td>0</td>\n",
       "      <td>0</td>\n",
       "      <td>0</td>\n",
       "      <td>0</td>\n",
       "      <td>...</td>\n",
       "      <td>0</td>\n",
       "      <td>0</td>\n",
       "      <td>0</td>\n",
       "      <td>0</td>\n",
       "      <td>0</td>\n",
       "      <td>0</td>\n",
       "      <td>0</td>\n",
       "      <td>0</td>\n",
       "      <td>33</td>\n",
       "      <td>7.0</td>\n",
       "    </tr>\n",
       "  </tbody>\n",
       "</table>\n",
       "<p>1214291 rows × 36 columns</p>\n",
       "</div>"
      ],
      "text/plain": [
       "         title_id                           title  is_adult  runtime_min  \\\n",
       "0               1                      Carmencita         0          1.0   \n",
       "1               2          Le clown et ses chiens         0          5.0   \n",
       "2               3                  Pauvre Pierrot         0          4.0   \n",
       "3               4                     Un bon bock         0         12.0   \n",
       "4               5                Blacksmith Scene         0          1.0   \n",
       "...           ...                             ...       ...          ...   \n",
       "1214286   9916690  Horrid Henry Delivers the Milk         0         10.0   \n",
       "1214287   9916720                       The Nun 2         0         10.0   \n",
       "1214288   9916730                          6 Gunn         0        116.0   \n",
       "1214289   9916766                  Episode #10.15         0         43.0   \n",
       "1214290   9916778                          Escape         0          NaN   \n",
       "\n",
       "         premiered  film_type  is_one  is_two  is_three  is_four  ...  \\\n",
       "0           1894.0      short       0       0         0        0  ...   \n",
       "1           1892.0      short       0       0         0        1  ...   \n",
       "2           1892.0      short       0       0         0        1  ...   \n",
       "3           1892.0      short       0       0         0        1  ...   \n",
       "4           1893.0      short       0       0         0        0  ...   \n",
       "...            ...        ...     ...     ...       ...      ...  ...   \n",
       "1214286     2012.0  tvEpisode       0       0         1        1  ...   \n",
       "1214287     2019.0      short       0       0         0        0  ...   \n",
       "1214288     2017.0      movie       0       0         0        0  ...   \n",
       "1214289     2019.0  tvEpisode       0       0         0        0  ...   \n",
       "1214290     2019.0  tvEpisode       0       0         0        0  ...   \n",
       "\n",
       "         is_twentyone  is_twentytwo  is_twentythree  is_twentyfour  \\\n",
       "0                   0             0               1              0   \n",
       "1                   0             0               1              0   \n",
       "2                   1             0               0              0   \n",
       "3                   0             0               1              0   \n",
       "4                   0             0               1              0   \n",
       "...               ...           ...             ...            ...   \n",
       "1214286             0             0               0              0   \n",
       "1214287             0             0               0              0   \n",
       "1214288             0             0               0              0   \n",
       "1214289             0             0               0              0   \n",
       "1214290             0             0               0              0   \n",
       "\n",
       "         is_twentyfive  is_twentysix  is_twentyseven  is_twentyeight  votes  \\\n",
       "0                    0             0               0               0   1858   \n",
       "1                    0             0               0               0    243   \n",
       "2                    0             0               0               0   1629   \n",
       "3                    0             0               0               0    158   \n",
       "4                    0             0               0               0   2455   \n",
       "...                ...           ...             ...             ...    ...   \n",
       "1214286              0             0               0               0      5   \n",
       "1214287              0             0               0               0    184   \n",
       "1214288              0             0               0               0      5   \n",
       "1214289              0             0               0               0     18   \n",
       "1214290              0             0               0               0     33   \n",
       "\n",
       "         rating  \n",
       "0           5.7  \n",
       "1           6.0  \n",
       "2           6.5  \n",
       "3           6.0  \n",
       "4           6.2  \n",
       "...         ...  \n",
       "1214286     6.6  \n",
       "1214287     5.5  \n",
       "1214288     8.4  \n",
       "1214289     6.7  \n",
       "1214290     7.0  \n",
       "\n",
       "[1214291 rows x 36 columns]"
      ]
     },
     "execution_count": 20,
     "metadata": {},
     "output_type": "execute_result"
    }
   ],
   "source": [
    "df = pd.read_sql_query(\"SELECT * FROM all_data\", con)\n",
    "df"
   ]
  },
  {
   "cell_type": "code",
   "execution_count": 33,
   "metadata": {},
   "outputs": [],
   "source": [
    "df.dropna(inplace=True)"
   ]
  },
  {
   "cell_type": "code",
   "execution_count": 34,
   "metadata": {},
   "outputs": [],
   "source": [
    "X = df[df.columns[2:-1]].values\n",
    "y = df['rating'].values"
   ]
  },
  {
   "cell_type": "code",
   "execution_count": 35,
   "metadata": {},
   "outputs": [
    {
     "data": {
      "text/plain": [
       "array([[0.000e+00, 1.000e+00, 1.894e+03, ..., 0.000e+00, 0.000e+00,\n",
       "        1.858e+03],\n",
       "       [0.000e+00, 5.000e+00, 1.892e+03, ..., 0.000e+00, 0.000e+00,\n",
       "        2.430e+02],\n",
       "       [0.000e+00, 4.000e+00, 1.892e+03, ..., 0.000e+00, 0.000e+00,\n",
       "        1.629e+03],\n",
       "       ...,\n",
       "       [0.000e+00, 1.000e+01, 2.019e+03, ..., 0.000e+00, 0.000e+00,\n",
       "        1.840e+02],\n",
       "       [0.000e+00, 1.160e+02, 2.017e+03, ..., 0.000e+00, 0.000e+00,\n",
       "        5.000e+00],\n",
       "       [0.000e+00, 4.300e+01, 2.019e+03, ..., 0.000e+00, 0.000e+00,\n",
       "        1.800e+01]])"
      ]
     },
     "execution_count": 35,
     "metadata": {},
     "output_type": "execute_result"
    }
   ],
   "source": [
    "X"
   ]
  },
  {
   "cell_type": "code",
   "execution_count": 36,
   "metadata": {},
   "outputs": [
    {
     "data": {
      "text/plain": [
       "array([5.7, 6. , 6.5, ..., 5.5, 8.4, 6.7])"
      ]
     },
     "execution_count": 36,
     "metadata": {},
     "output_type": "execute_result"
    }
   ],
   "source": [
    "y"
   ]
  },
  {
   "cell_type": "code",
   "execution_count": 37,
   "metadata": {},
   "outputs": [],
   "source": [
    "from sklearn.model_selection import train_test_split"
   ]
  },
  {
   "cell_type": "code",
   "execution_count": 38,
   "metadata": {},
   "outputs": [],
   "source": [
    "X_tr, X_te, y_tr, y_te = train_test_split(X, y, test_size=0.3)"
   ]
  },
  {
   "cell_type": "code",
   "execution_count": 39,
   "metadata": {},
   "outputs": [
    {
     "data": {
      "text/plain": [
       "(611900, 32)"
      ]
     },
     "execution_count": 39,
     "metadata": {},
     "output_type": "execute_result"
    }
   ],
   "source": [
    "X_tr.shape"
   ]
  },
  {
   "cell_type": "code",
   "execution_count": 40,
   "metadata": {},
   "outputs": [
    {
     "data": {
      "text/plain": [
       "(262244, 32)"
      ]
     },
     "execution_count": 40,
     "metadata": {},
     "output_type": "execute_result"
    }
   ],
   "source": [
    "X_te.shape"
   ]
  },
  {
   "cell_type": "code",
   "execution_count": 41,
   "metadata": {},
   "outputs": [],
   "source": [
    "from sklearn.linear_model import LinearRegression"
   ]
  },
  {
   "cell_type": "code",
   "execution_count": 42,
   "metadata": {},
   "outputs": [
    {
     "data": {
      "text/plain": [
       "LinearRegression()"
      ]
     },
     "execution_count": 42,
     "metadata": {},
     "output_type": "execute_result"
    }
   ],
   "source": [
    "model = LinearRegression()\n",
    "model.fit(X_tr, y_tr)"
   ]
  },
  {
   "cell_type": "code",
   "execution_count": 43,
   "metadata": {},
   "outputs": [],
   "source": [
    "preds_tr = model.predict(X_tr)\n",
    "preds_te = model.predict(X_te)"
   ]
  },
  {
   "cell_type": "code",
   "execution_count": 44,
   "metadata": {},
   "outputs": [
    {
     "data": {
      "text/plain": [
       "array([6.92815394, 6.38935144, 6.40622975, 7.37826479, 6.93198575,\n",
       "       6.8446341 , 7.41825309, 6.96227327, 6.67496977, 7.08568339])"
      ]
     },
     "execution_count": 44,
     "metadata": {},
     "output_type": "execute_result"
    }
   ],
   "source": [
    "preds_te[:10]"
   ]
  },
  {
   "cell_type": "code",
   "execution_count": 45,
   "metadata": {},
   "outputs": [
    {
     "ename": "AttributeError",
     "evalue": "'numpy.ndarray' object has no attribute 'values'",
     "output_type": "error",
     "traceback": [
      "\u001b[0;31m---------------------------------------------------------------------------\u001b[0m",
      "\u001b[0;31mAttributeError\u001b[0m                            Traceback (most recent call last)",
      "\u001b[0;32m<ipython-input-45-a92d1eade1f2>\u001b[0m in \u001b[0;36m<module>\u001b[0;34m\u001b[0m\n\u001b[0;32m----> 1\u001b[0;31m \u001b[0my_te\u001b[0m\u001b[0;34m[\u001b[0m\u001b[0;34m:\u001b[0m\u001b[0;36m10\u001b[0m\u001b[0;34m]\u001b[0m\u001b[0;34m.\u001b[0m\u001b[0mvalues\u001b[0m\u001b[0;34m\u001b[0m\u001b[0;34m\u001b[0m\u001b[0m\n\u001b[0m",
      "\u001b[0;31mAttributeError\u001b[0m: 'numpy.ndarray' object has no attribute 'values'"
     ]
    }
   ],
   "source": [
    "y_te[:10].values"
   ]
  },
  {
   "cell_type": "code",
   "execution_count": 46,
   "metadata": {},
   "outputs": [
    {
     "data": {
      "text/plain": [
       "6.870495797806623"
      ]
     },
     "execution_count": 46,
     "metadata": {},
     "output_type": "execute_result"
    }
   ],
   "source": [
    "y_te.mean()"
   ]
  },
  {
   "cell_type": "code",
   "execution_count": 47,
   "metadata": {},
   "outputs": [],
   "source": [
    "from sklearn.metrics import mean_absolute_error"
   ]
  },
  {
   "cell_type": "code",
   "execution_count": 48,
   "metadata": {},
   "outputs": [
    {
     "data": {
      "text/plain": [
       "0.9871155004673212"
      ]
     },
     "execution_count": 48,
     "metadata": {},
     "output_type": "execute_result"
    }
   ],
   "source": [
    "mean_absolute_error(y_tr, preds_tr)"
   ]
  },
  {
   "cell_type": "code",
   "execution_count": 49,
   "metadata": {},
   "outputs": [
    {
     "data": {
      "text/plain": [
       "0.9869357262637958"
      ]
     },
     "execution_count": 49,
     "metadata": {},
     "output_type": "execute_result"
    }
   ],
   "source": [
    "mean_absolute_error(y_te, preds_te)"
   ]
  },
  {
   "cell_type": "code",
   "execution_count": null,
   "metadata": {},
   "outputs": [],
   "source": []
  }
 ],
 "metadata": {
  "kernelspec": {
   "display_name": "Python 3",
   "language": "python",
   "name": "python3"
  },
  "language_info": {
   "codemirror_mode": {
    "name": "ipython",
    "version": 3
   },
   "file_extension": ".py",
   "mimetype": "text/x-python",
   "name": "python",
   "nbconvert_exporter": "python",
   "pygments_lexer": "ipython3",
   "version": "3.8.8"
  }
 },
 "nbformat": 4,
 "nbformat_minor": 4
}
